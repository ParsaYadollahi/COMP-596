{
  "nbformat": 4,
  "nbformat_minor": 0,
  "metadata": {
    "colab": {
      "name": "COMP 596 - A1.ipynb",
      "provenance": [],
      "collapsed_sections": []
    },
    "kernelspec": {
      "name": "python3",
      "display_name": "Python 3"
    }
  },
  "cells": [
    {
      "cell_type": "markdown",
      "metadata": {
        "id": "2FuO82RTBftK"
      },
      "source": [
        "Go to https://drive.google.com/drive/folders/1Pe6D713L9S0GWwb_XzeLXAeNZOrBqZaN?usp=sharing and click add shortcut to drive. This will add the data required for this assignment to your Google drive.\n",
        "\n",
        "<img src=\"https://drive.google.com/uc?id=1LqHisiziX8Ri94Xs6Cv8mhx6vivFM3kS\" alt=\"Drawing\" height=\"300\"/>\n",
        "\n",
        "Caution: Since this is real language on Twitter and deals with world events, some of it could be disturbing. In the later section of the course, we will deal with ethics and what is appropriate and what is not. \n",
        "\n",
        "First, let's read the tweets from the Google drive and print a few lines from the file.\n",
        "\n"
      ]
    },
    {
      "cell_type": "markdown",
      "metadata": {
        "id": "UtZEcHthBeXz"
      },
      "source": [
        "Run the below code snippet. It will generate a URL which generates an authorization code. Enter it below to give Colab access to your Google drive. \n",
        "\n",
        "**Note:** Copy button may not work. Try copying the authorization code manually."
      ]
    },
    {
      "cell_type": "code",
      "metadata": {
        "id": "KW-dce7oJlyr",
        "colab": {
          "base_uri": "https://localhost:8080/"
        },
        "outputId": "09c0e2ca-d860-43a7-e20d-c21c51fe24e4"
      },
      "source": [
        "from google.colab import drive\n",
        "drive.mount('/content/drive/')"
      ],
      "execution_count": 153,
      "outputs": [
        {
          "output_type": "stream",
          "name": "stdout",
          "text": [
            "Drive already mounted at /content/drive/; to attempt to forcibly remount, call drive.mount(\"/content/drive/\", force_remount=True).\n"
          ]
        }
      ]
    },
    {
      "cell_type": "markdown",
      "metadata": {
        "id": "Ni2pYuuQKaHY"
      },
      "source": [
        "When you run the `ls` command below, you should see the files in the tweets folder.\n",
        "\n",
        "\n"
      ]
    },
    {
      "cell_type": "code",
      "metadata": {
        "id": "zYENtyc7SOxA",
        "colab": {
          "base_uri": "https://localhost:8080/"
        },
        "outputId": "5407fca3-ac60-45e5-9a6d-bf9ecf98409a"
      },
      "source": [
        "!ls \"/content/drive/My Drive/tweets\""
      ],
      "execution_count": 154,
      "outputs": [
        {
          "output_type": "stream",
          "name": "stdout",
          "text": [
            "20000_tweets.jsonl\n",
            "20000_tweets.txt\n",
            "covid-tweets-2020-08-10-2020-08-21.tokenized.txt\n",
            "covid-tweets-2020-08-10-2020-08-21.trigrams.txt\n",
            "GoogleNews-vectors-negative300.bin.gz\n",
            "stop_words.txt\n"
          ]
        }
      ]
    },
    {
      "cell_type": "markdown",
      "metadata": {
        "id": "vEvB8AMiqeNh"
      },
      "source": [
        "Let's read the top 10 tweets from the file `20000_tweets.txt` and print them.\n",
        "\n",
        "> Indented block\n",
        "\n"
      ]
    },
    {
      "cell_type": "code",
      "metadata": {
        "id": "gZMOmElPSPHk",
        "colab": {
          "base_uri": "https://localhost:8080/"
        },
        "outputId": "3f7aa2c4-577b-4ece-f7cf-0847391b3efb"
      },
      "source": [
        "f = open(\"/content/drive/My Drive/tweets/20000_tweets.txt\", \"r\")\n",
        "\n",
        "line_count = 0\n",
        "top_tweets = []\n",
        "for tweet in f:\n",
        "  print(\"### Tweet\", line_count, \"#####\")\n",
        "  print(tweet)\n",
        "  if line_count == 10:\n",
        "    break\n",
        "  \n",
        "  top_tweets.append(tweet)\n",
        "  line_count += 1\n",
        "  if line_count >= 10:\n",
        "    break\n",
        "f.close()"
      ],
      "execution_count": 155,
      "outputs": [
        {
          "output_type": "stream",
          "name": "stdout",
          "text": [
            "### Tweet 0 #####\n",
            "Covid-19 Economic Response: Cancel Student Loans by Executive Order. - Sign the Petition! https://t.co/BnPXWHv5cr via @Change\n",
            "\n",
            "### Tweet 1 #####\n",
            "Hey! The stock markets up! Fuck Trump and the Trumpublican Senate! https://t.co/4t6mgbaG2C\n",
            "\n",
            "### Tweet 2 #####\n",
            "@ProjectLincoln blame Trump for no sports because of Covid19 @MeidasTouch\n",
            "\n",
            "### Tweet 3 #####\n",
            "Do u guys think that reopening of the dinning in the restaurants of Lahore will bring any change in our lives? Nothing is going to change I think cause many people have learned cooking, painting and many new stuff during lockdown and I think we all will continue those things 1/2\n",
            "\n",
            "### Tweet 4 #####\n",
            "@NBCSAthletics Ya just knew the season wouldn’t go by without some bench clearing brawls... Covid or not. Behaviors can’t be changed because of rules, sadly\n",
            "\n",
            "### Tweet 5 #####\n",
            "You’re comparing apples and oranges. The NCAA has a lot more to balance than the NFL. https://t.co/oeMsbgeem7\n",
            "\n",
            "### Tweet 6 #####\n",
            "THANK YOU @POTUS Absolutely NO MONEY/NO BAILOUTS for Irresponsibly Run Democrat Cities...#NoBailouts https://t.co/bWLELcCutV\n",
            "\n",
            "### Tweet 7 #####\n",
            "#Texas #USA #NorthAmerica Cases: 509,539 (+21) Death: 8,583 Recovered: 344,845 Critical: 1,754 New %: 0.3% Death %: 1.7% Population %: 1.8% #CoronaVirus #Covid19 #SarsCov2 #Forecast https://t.co/yHbd9gl1uz https://t.co/sRulRFOeUx\n",
            "\n",
            "### Tweet 8 #####\n",
            "New Zealand celebrated their 100th day without COVID today. A society that works together for the common good: that's what actual freedom looks like. https://t.co/7qppin3QRM\n",
            "\n",
            "### Tweet 9 #####\n",
            "It’s going to be screen time all the time for kindergartners and graduate students alike. Teachers are threatening strikes. And students are already coming home infected with the coronavirus, which has upended American education. https://t.co/O3eT06wmrU\n",
            "\n"
          ]
        }
      ]
    },
    {
      "cell_type": "markdown",
      "metadata": {
        "id": "7r-IHJ3KU27N"
      },
      "source": [
        "# **Problem 1: Word Tokenizer**\n",
        "\n",
        "Implement your own tokenizer for tweets without using libraries like `nltk`, `spacy` or any existing tokenizers. Tokenizer is a fundamental tool for processing any text data. The tokenizer should preserve punctuations.\n",
        "\n",
        "The outputs for the top five tweets should approximately be as follows (it's fine to not exactly match this output)\n",
        "\n",
        "```\n",
        "['Covid-19', 'Economic', 'Response', ':', 'Cancel', 'Student', 'Loans', 'by', 'Executive', 'Order', '.', '-', 'Sign', 'the', 'Petition', '!', 'https://t.co/BnPXWHv5cr', 'via', '@Change']\n",
        "['Hey', '!', 'The', 'stock', 'markets', 'up', '!', 'Fuck', 'Trump', 'and', 'the', 'Trumpublican', 'Senate', '!', 'https://t.co/4t6mgbaG2C']\n",
        "['@ProjectLincoln', 'blame', 'Trump', 'for', 'no', 'sports', 'because', 'of', 'Covid19', '@MeidasTouch']\n",
        "['Do', 'u', 'guys', 'think', 'that', 'reopening', 'of', 'the', 'dinning', 'in', 'the', 'restaurants', 'of', 'Lahore', 'will', 'bring', 'any', 'change', 'in', 'our', 'lives', '?', 'Nothing', 'is', 'going', 'to', 'change', 'I', 'think', 'cause', 'many', 'people', 'have', 'learned', 'cooking', ',', 'painting', 'and', 'many', 'new', 'stuff', 'during', 'lockdown', 'and', 'I', 'think', 'we', 'all', 'will', 'continue', 'those', 'things', '1/2']\n",
        "['@NBCSAthletics', 'Ya', 'just', 'knew', 'the', 'season', 'would', 'n’t', 'go', 'by', 'without', 'some', 'bench', 'clearing', 'brawls', '...', 'Covid', 'or', 'not', '.', 'Behaviors', 'ca', 'n’t', 'be', 'changed', 'because', 'of', 'rules', ',', 'sadly']\n",
        "```\n",
        "\n",
        "A thing to note is that words like `wouldn't` and `you'll` become two tokens `would n't` and `you 'll`, after tokenization. Treating `'nt` and  `'ll` as independent tokens is common in NLP tools. You can come up with that kind of list easily, e.g., `'s, 've`.\n"
      ]
    },
    {
      "cell_type": "code",
      "metadata": {
        "id": "0Y-oKzw7OHOX",
        "colab": {
          "base_uri": "https://localhost:8080/"
        },
        "outputId": "b4945c16-2e06-4047-cb05-5f48d61ae569"
      },
      "source": [
        "# import any relevant libraries here\n",
        "import regex as re    \n",
        "\n",
        "# a function to tokenize text into words\n",
        "def tokenize(text):\n",
        "  scanner=re.Scanner([\n",
        "    (r\"[0-9]+\",               lambda scanner,token:(token)),\n",
        "    (r\"\\p{P}*[aA-zZ\\p{P}*\\w+]+\",       lambda scanner,token:(token)),\n",
        "    (r\"[.!?\\-]+\",                lambda scanner,token:(token)),\n",
        "    (r\"[^\\P{p}]+\",                lambda scanner,token:(token)),\n",
        "    (r\"\\s+\", None), # None == skip token.\n",
        "  ])\n",
        "  words, remainder = scanner.scan(text)\n",
        "  return words\n",
        "\n",
        "tokenized_top_tweets = [tokenize(tweet) for tweet in top_tweets]\n",
        "for tokenized_tweet in tokenized_top_tweets:\n",
        "  print(tokenized_tweet)"
      ],
      "execution_count": 156,
      "outputs": [
        {
          "output_type": "stream",
          "name": "stdout",
          "text": [
            "['Covid-19', 'Economic', 'Response:', 'Cancel', 'Student', 'Loans', 'by', 'Executive', 'Order.', '-', 'Sign', 'the', 'Petition!', 'https://t.co/BnPXWHv5cr', 'via', '@Change']\n",
            "['Hey!', 'The', 'stock', 'markets', 'up!', 'Fuck', 'Trump', 'and', 'the', 'Trumpublican', 'Senate!', 'https://t.co/4t6mgbaG2C']\n",
            "['@ProjectLincoln', 'blame', 'Trump', 'for', 'no', 'sports', 'because', 'of', 'Covid19', '@MeidasTouch']\n",
            "['Do', 'u', 'guys', 'think', 'that', 'reopening', 'of', 'the', 'dinning', 'in', 'the', 'restaurants', 'of', 'Lahore', 'will', 'bring', 'any', 'change', 'in', 'our', 'lives?', 'Nothing', 'is', 'going', 'to', 'change', 'I', 'think', 'cause', 'many', 'people', 'have', 'learned', 'cooking,', 'painting', 'and', 'many', 'new', 'stuff', 'during', 'lockdown', 'and', 'I', 'think', 'we', 'all', 'will', 'continue', 'those', 'things', '1', '/2']\n",
            "['@NBCSAthletics', 'Ya', 'just', 'knew', 'the', 'season', 'wouldn’t', 'go', 'by', 'without', 'some', 'bench', 'clearing', 'brawls...', 'Covid', 'or', 'not.', 'Behaviors', 'can’t', 'be', 'changed', 'because', 'of', 'rules,', 'sadly']\n",
            "['You’re', 'comparing', 'apples', 'and', 'oranges.', 'The', 'NCAA', 'has', 'a', 'lot', 'more', 'to', 'balance', 'than', 'the', 'NFL.', 'https://t.co/oeMsbgeem7']\n",
            "['THANK', 'YOU', '@POTUS', 'Absolutely', 'NO', 'MONEY/NO', 'BAILOUTS', 'for', 'Irresponsibly', 'Run', 'Democrat', 'Cities...#NoBailouts', 'https://t.co/bWLELcCutV']\n",
            "['#Texas', '#USA', '#NorthAmerica', 'Cases:', '509', ',539', '(+21)', 'Death:', '8', ',583', 'Recovered:', '344', ',845', 'Critical:', '1', ',754', 'New', '%:', '0', '.3%', 'Death', '%:', '1', '.7%', 'Population', '%:', '1', '.8%', '#CoronaVirus', '#Covid19', '#SarsCov2', '#Forecast', 'https://t.co/yHbd9gl1uz', 'https://t.co/sRulRFOeUx']\n",
            "['New', 'Zealand', 'celebrated', 'their', '100', 'th', 'day', 'without', 'COVID', 'today.', 'A', 'society', 'that', 'works', 'together', 'for', 'the', 'common', 'good:', \"that's\", 'what', 'actual', 'freedom', 'looks', 'like.', 'https://t.co/7qppin3QRM']\n",
            "['It’s', 'going', 'to', 'be', 'screen', 'time', 'all', 'the', 'time', 'for', 'kindergartners', 'and', 'graduate', 'students', 'alike.', 'Teachers', 'are', 'threatening', 'strikes.', 'And', 'students', 'are', 'already', 'coming', 'home', 'infected', 'with', 'the', 'coronavirus,', 'which', 'has', 'upended', 'American', 'education.', 'https://t.co/O3eT06wmrU']\n"
          ]
        }
      ]
    },
    {
      "cell_type": "markdown",
      "metadata": {
        "id": "KEmNfrQqKoMY"
      },
      "source": [
        "# Problem 2: Post-process the tokenized tweets\n",
        "\n",
        "Clean the tokenized tweets such that usernames are repalced with `@USER`, URLs are replaced with `URL`, punctuations are removed and words are lower-cased.\n",
        "\n",
        "The output for the top ten tweets after cleaning should look something like this\n",
        "\n",
        "```\n",
        "['covid-19', 'economic', 'response', 'cancel', 'student', 'loans', 'by', 'executive', 'order', 'sign', 'the', 'petition', 'URL', 'via', '@USER']\n",
        "['hey', 'the', 'stock', 'markets', 'up', 'fuck', 'trump', 'and', 'the', 'trumpublican', 'senate', 'URL']\n",
        "['@USER', 'blame', 'trump', 'for', 'no', 'sports', 'because', 'of', 'covid19', '@USER']\n",
        "['do', 'u', 'guys', 'think', 'that', 'reopening', 'of', 'the', 'dinning', 'in', 'the', 'restaurants', 'of', 'lahore', 'will', 'bring', 'any', 'change', 'in', 'our', 'lives', 'nothing', 'is', 'going', 'to', 'change', 'i', 'think', 'cause', 'many', 'people', 'have', 'learned', 'cooking', 'painting', 'and', 'many', 'new', 'stuff', 'during', 'lockdown', 'and', 'i', 'think', 'we', 'all', 'will', 'continue', 'those', 'things', '1/2']\n",
        "['@USER', 'ya', 'just', 'knew', 'the', 'season', 'would', 'n’t', 'go', 'by', 'without', 'some', 'bench', 'clearing', 'brawls', 'covid', 'or', 'not', 'behaviors', 'ca', 'n’t', 'be', 'changed', 'because', 'of', 'rules', 'sadly']\n",
        "```"
      ]
    },
    {
      "cell_type": "markdown",
      "metadata": {
        "id": "jN_QSZ6paBpR"
      },
      "source": [
        ""
      ]
    },
    {
      "cell_type": "code",
      "metadata": {
        "id": "EMWFqI9KbDnY",
        "colab": {
          "base_uri": "https://localhost:8080/"
        },
        "outputId": "d422b653-9950-4a1d-8d61-2cd4098b12a1"
      },
      "source": [
        "# import relevant \n",
        "import string\n",
        "\n",
        "\n",
        "# URL REGEX\n",
        "URL_REGEX = re.compile(\n",
        "        r'^(?:http|ftp)s?://'\n",
        "        r'(?:(?:[A-Z0-9](?:[A-Z0-9-]{0,61}[A-Z0-9])?\\.)+(?:[A-Z]{2,6}\\.?|[A-Z0-9-]{2,}\\.?)|'\n",
        "        r'localhost|'\n",
        "        r'\\d{1,3}\\.\\d{1,3}\\.\\d{1,3}\\.\\d{1,3})'\n",
        "        r'(?::\\d+)?'\n",
        "        r'(?:/?|[/?]\\S+)$', re.IGNORECASE)\n",
        "\n",
        "REMOVE_PUNCTUATION = re.compile(\n",
        "    r'(^(\\w*\\p{P}*)$|^(\\p{P}\\w*)$)'\n",
        ")\n",
        "\n",
        "# function to clean a tweet\n",
        "def clean_a_tweet(tokenized_tweet):\n",
        "  tokenized_tweet = [token.lower() for token in tokenized_tweet]\n",
        "  for (idx, token) in enumerate(tokenized_tweet):\n",
        "    \n",
        "\n",
        "    if ('@' in token):\n",
        "      tokenized_tweet[idx] = \"@USER\"\n",
        "    elif re.match(URL_REGEX, token) is not None:\n",
        "      tokenized_tweet[idx] = \"URL\"\n",
        "    elif re.match(REMOVE_PUNCTUATION, token) is not None:\n",
        "      tokenized_tweet[idx] = token.translate(str.maketrans('', '', string.punctuation))\n",
        "      if (tokenized_tweet[idx] == ''):\n",
        "        tokenized_tweet.pop(idx)\n",
        "\n",
        "  return(tokenized_tweet)\n",
        "\n",
        "anonymized_top_tweets = [clean_a_tweet(tokenized_tweet) for tokenized_tweet in tokenized_top_tweets]\n",
        "for tokenized_tweet in anonymized_top_tweets:\n",
        "  print(tokenized_tweet)"
      ],
      "execution_count": 157,
      "outputs": [
        {
          "output_type": "stream",
          "name": "stdout",
          "text": [
            "['covid-19', 'economic', 'response', 'cancel', 'student', 'loans', 'by', 'executive', 'order', 'sign', 'the', 'petition', 'URL', 'via', '@USER']\n",
            "['hey', 'the', 'stock', 'markets', 'up', 'fuck', 'trump', 'and', 'the', 'trumpublican', 'senate', 'URL']\n",
            "['@USER', 'blame', 'trump', 'for', 'no', 'sports', 'because', 'of', 'covid19', '@USER']\n",
            "['do', 'u', 'guys', 'think', 'that', 'reopening', 'of', 'the', 'dinning', 'in', 'the', 'restaurants', 'of', 'lahore', 'will', 'bring', 'any', 'change', 'in', 'our', 'lives', 'nothing', 'is', 'going', 'to', 'change', 'i', 'think', 'cause', 'many', 'people', 'have', 'learned', 'cooking', 'painting', 'and', 'many', 'new', 'stuff', 'during', 'lockdown', 'and', 'i', 'think', 'we', 'all', 'will', 'continue', 'those', 'things', '1', '2']\n",
            "['@USER', 'ya', 'just', 'knew', 'the', 'season', 'wouldn’t', 'go', 'by', 'without', 'some', 'bench', 'clearing', 'brawls', 'covid', 'or', 'not', 'behaviors', 'can’t', 'be', 'changed', 'because', 'of', 'rules', 'sadly']\n",
            "['you’re', 'comparing', 'apples', 'and', 'oranges', 'the', 'ncaa', 'has', 'a', 'lot', 'more', 'to', 'balance', 'than', 'the', 'nfl', 'URL']\n",
            "['thank', 'you', '@USER', 'absolutely', 'no', 'money/no', 'bailouts', 'for', 'irresponsibly', 'run', 'democrat', 'cities...#nobailouts', 'URL']\n",
            "['texas', 'usa', 'northamerica', 'cases', '509', '539', '(+21)', 'death', '8', '583', 'recovered', '344', '845', 'critical', '1', '754', 'new', '0', '.3%', 'death', '1', '.7%', 'population', '1', '.8%', 'coronavirus', 'covid19', 'sarscov2', 'forecast', 'URL', 'URL']\n",
            "['new', 'zealand', 'celebrated', 'their', '100', 'th', 'day', 'without', 'covid', 'today', 'a', 'society', 'that', 'works', 'together', 'for', 'the', 'common', 'good', \"that's\", 'what', 'actual', 'freedom', 'looks', 'like', 'URL']\n",
            "['it’s', 'going', 'to', 'be', 'screen', 'time', 'all', 'the', 'time', 'for', 'kindergartners', 'and', 'graduate', 'students', 'alike', 'teachers', 'are', 'threatening', 'strikes', 'and', 'students', 'are', 'already', 'coming', 'home', 'infected', 'with', 'the', 'coronavirus', 'which', 'has', 'upended', 'american', 'education', 'URL']\n"
          ]
        }
      ]
    },
    {
      "cell_type": "markdown",
      "metadata": {
        "id": "JVkL6n6jU1LU"
      },
      "source": [
        "# Problem 3: Unigrams and Bigrams\n",
        "\n",
        "Read **all** tweets from the file `20000_tweets.txt` and print the top 10 unigrams and bigrams. Consider only the English tweets. You have to use `tokenize` and `clean_a_tweet` function.\n",
        "\n",
        "Output format\n",
        "\n",
        "```\n",
        "Top 10 Unigrams\n",
        "@USER\t16698\n",
        "the\t16666\n",
        "URL\t12610\n",
        "to\t11866\n",
        "a\t9845\n",
        "....\n",
        "....\n",
        "....\n",
        "....\n",
        "....\n",
        "\n",
        "Top 10 Bigrams\n",
        "@USER @USER\t7494\n",
        "in the\t1280\n",
        "of the\t1265\n",
        "it ’s\t860\n",
        "a mask\t793\n",
        "....\n",
        "....\n",
        "....\n",
        "....\n",
        "....\n",
        "```\n",
        "\n",
        "Your numbers need not match the above word frequencies. Depending on your tokenizer, you may get different numbers"
      ]
    },
    {
      "cell_type": "code",
      "metadata": {
        "id": "DQs6Th7AlTtb",
        "colab": {
          "base_uri": "https://localhost:8080/"
        },
        "outputId": "ded8294f-eb01-4963-ea22-eb67460827fa"
      },
      "source": [
        "# Write your code to build top 10 unigrams and bigrams\n",
        "# Hint: You can use python dictionary or collections.Counter().\n",
        "from collections import Counter\n",
        "\n",
        "f = open(\"/content/drive/My Drive/tweets/20000_tweets.txt\", \"r\")\n",
        "\n",
        "line_count = 0\n",
        "top_tweets = []\n",
        "for tweet in f:\n",
        "  \n",
        "  top_tweets.append(tweet)\n",
        "  line_count += 1\n",
        "f.close()\n",
        "\n",
        "\n",
        "all_words = []\n",
        "tokenized_top_tweets = [tokenize(tweet) for tweet in top_tweets]\n",
        "cleaned_tweets = [clean_a_tweet(tweet) for tweet in tokenized_top_tweets]\n",
        "for tokenized_tweet in cleaned_tweets:\n",
        "  all_words += (tokenized_tweet)\n",
        "\n",
        "bigrams = zip(all_words, all_words[1:])\n",
        "bigram_counts = Counter(bigrams)\n",
        "most_common_bigrams = bigram_counts.most_common()\n",
        "\n",
        "\n",
        "all_words = Counter(all_words)\n",
        "all_words = {k:v for k, v in sorted(all_words.items(),reverse=True, key = lambda item: item[1])}\n",
        "\n",
        "\n",
        "print(\"Top 10 Unigrams\")\n",
        "for idx, unigram in enumerate(all_words):\n",
        "  if (idx == 10):\n",
        "    break\n",
        "  print(unigram, \"\\t\", all_words[unigram])\n",
        "\n",
        "\n",
        "print(\"\\n\")\n",
        "print(\"Top 10 Bigrams\")\n",
        "for idx, bigram in enumerate(most_common_bigrams):\n",
        "  if (idx == 10):\n",
        "    break\n",
        "  print(most_common_bigrams[idx][0][0], most_common_bigrams[idx][0][1], \"\\t\", most_common_bigrams[idx][1])\n"
      ],
      "execution_count": 158,
      "outputs": [
        {
          "output_type": "stream",
          "name": "stdout",
          "text": [
            "Top 10 Unigrams\n",
            "@USER \t 16543\n",
            "the \t 16353\n",
            "URL \t 11682\n",
            "to \t 11655\n",
            "a \t 9676\n",
            "and \t 8343\n",
            "of \t 7695\n",
            "in \t 6171\n",
            "is \t 6112\n",
            "i \t 5083\n",
            "\n",
            "\n",
            "Top 10 Bigrams\n",
            "@USER @USER \t 7552\n",
            "URL @USER \t 3626\n",
            "in the \t 1265\n",
            "of the \t 1248\n",
            "a mask \t 763\n",
            "the pandemic \t 704\n",
            "this is \t 700\n",
            "wear a \t 686\n",
            "a pandemic \t 666\n",
            "to be \t 656\n"
          ]
        }
      ]
    },
    {
      "cell_type": "markdown",
      "metadata": {
        "id": "2Q-FpH2k7akG"
      },
      "source": [
        "# Problem 4: How frequent are the following unigrams and bigrams?\n",
        "\n",
        "```\n",
        "covid\n",
        "coronavirus\n",
        "republicans\n",
        "democrats\n",
        "social distancing\n",
        "wear mask\n",
        "no mask\n",
        "donald trump\n",
        "joe biden\n",
        "```\n",
        "\n",
        "Output:\n",
        "```\n",
        "covid\t4437\n",
        "coronavirus\t1368\n",
        "...\n",
        "...\n",
        "social distancing\t568\n",
        "wear mask\t19\n",
        "...\n",
        "...\n",
        "...\n",
        "```\n"
      ]
    },
    {
      "cell_type": "code",
      "metadata": {
        "id": "11Jcaf1T9mHU",
        "colab": {
          "base_uri": "https://localhost:8080/"
        },
        "outputId": "5f58513b-3a30-49b9-ce38-6fd7434e0988"
      },
      "source": [
        "# Write your code to print the frequencies of the above unigrams and bigrams\n",
        "# Hint: reuse the dictionaries you built in the previous cell\n",
        "\n",
        "\n",
        "params_words = [\n",
        "\"covid\",\n",
        "\"coronavirus\",\n",
        "\"republicans\",\n",
        "\"democrats\",\n",
        "\"social distancing\",\n",
        "\"wear mask\",\n",
        "\"no mask\",\n",
        "\"donald trump\",\n",
        "\"joe biden\",\n",
        "]\n",
        "\n",
        "for unigram in params_words:\n",
        "  if (unigram in all_words):\n",
        "    print(unigram, \"\\t\", all_words[unigram])\n",
        "\n",
        "\n",
        "for bigram in params_words:\n",
        "  if \" \" not in bigram:\n",
        "    continue\n",
        "  for idx, t in enumerate(most_common_bigrams):\n",
        "    if bigram.split() == list(t[0]):\n",
        "      print(t[0][0], t[0][1], '\\t', t[1])"
      ],
      "execution_count": 159,
      "outputs": [
        {
          "output_type": "stream",
          "name": "stdout",
          "text": [
            "covid \t 4298\n",
            "coronavirus \t 1602\n",
            "republicans \t 59\n",
            "democrats \t 165\n",
            "social distancing \t 544\n",
            "wear mask \t 19\n",
            "no mask \t 18\n",
            "donald trump \t 52\n",
            "joe biden \t 22\n"
          ]
        }
      ]
    }
  ]
}